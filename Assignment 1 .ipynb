{
 "cells": [
  {
   "cell_type": "code",
   "execution_count": 57,
   "id": "adb03f86-0d61-486d-9594-97a27a25a125",
   "metadata": {},
   "outputs": [
    {
     "name": "stdout",
     "output_type": "stream",
     "text": [
      "* * * * *  \n",
      "  * * *  \n",
      "    *  \n"
     ]
    }
   ],
   "source": [
    "for i in range(0,3):\n",
    "    for s in range(1,i+1):\n",
    "        print(\" \",end=\" \")\n",
    "\n",
    "    for j in range(4,2*i-1,-1):\n",
    "        if(i==1 or i==2 or i==0):    \n",
    "            print(\"*\",end=\" \")\n",
    "\n",
    "    print(\" \")"
   ]
  },
  {
   "cell_type": "code",
   "execution_count": 124,
   "id": "cb9a85da-e53f-4e77-94bd-6abe0e80376c",
   "metadata": {},
   "outputs": [
    {
     "name": "stdout",
     "output_type": "stream",
     "text": [
      "    *  \n",
      "  * * *  \n",
      "* * * * *  \n",
      "  * * *  \n",
      "    *  \n",
      "       \n",
      "         \n"
     ]
    }
   ],
   "source": [
    "for k in range(1,3):\n",
    "    for s in range(2,k-1,-1):\n",
    "        print(\" \",end=\" \")\n",
    "\n",
    "    for f in range(1,2*k):\n",
    "        print(\"*\",end=\" \")\n",
    "\n",
    "    print(\" \")\n",
    "    \n",
    "for i in range(0,5):\n",
    "    for s in range(1,i+1):\n",
    "        print(\" \",end=\" \")\n",
    "\n",
    "    for j in range(4,2*i-1,-1):\n",
    "        print(\"*\",end=\" \")\n",
    "\n",
    "\n",
    "    print(\" \")"
   ]
  },
  {
   "cell_type": "code",
   "execution_count": 128,
   "id": "2840bf56-be3d-4517-ab95-3eadb8d4e46f",
   "metadata": {},
   "outputs": [
    {
     "name": "stdout",
     "output_type": "stream",
     "text": [
      "  *  \n",
      "    *  \n",
      "      *  \n",
      "        *  \n",
      "          *  \n"
     ]
    }
   ],
   "source": [
    "for k in range(1,6):\n",
    "    for s in range(1,k+1):\n",
    "        print(\" \",end=\" \")\n",
    "\n",
    "    for f in range(1,k+1):\n",
    "        if(f==1):\n",
    "            print(\"*\",end=\" \")\n",
    "\n",
    "    print(\" \")"
   ]
  },
  {
   "cell_type": "code",
   "execution_count": 133,
   "id": "a6eb01d5-870c-44c2-b6e9-04372542b2e8",
   "metadata": {},
   "outputs": [
    {
     "name": "stdout",
     "output_type": "stream",
     "text": [
      "        *  \n",
      "      *  \n",
      "    *  \n",
      "  *  \n",
      "*  \n"
     ]
    }
   ],
   "source": [
    "for k in range(1,6):\n",
    "    for s in range(4,k-1,-1):\n",
    "        print(\" \",end=\" \")\n",
    "\n",
    "    for f in range(1,k+1):\n",
    "        if(f==1):\n",
    "            print(\"*\",end=\" \")\n",
    "\n",
    "    print(\" \")\n",
    "\n"
   ]
  },
  {
   "cell_type": "code",
   "execution_count": 249,
   "id": "3ee8f7fc-5d76-48a1-bca7-6de0307b488d",
   "metadata": {},
   "outputs": [
    {
     "name": "stdout",
     "output_type": "stream",
     "text": [
      "  *       *  \n",
      "    *   *    \n",
      "      *      \n",
      "    *   *    \n",
      "  *       *  \n"
     ]
    }
   ],
   "source": [
    "for k in range(1,6):\n",
    "    for s in range(1,k+1):\n",
    "        if ((s==2 and k==5) or (s==3 and k==4)):\n",
    "            print(\"*\",end=\" \")\n",
    "\n",
    "        else:\n",
    "            print(\" \",end=\" \")\n",
    "\n",
    "       \n",
    "\n",
    "    for f in range(1,k+1):\n",
    "        if( f==1):\n",
    "            print(\"*\",end=\" \")\n",
    "    for i in range(4,k-1,-1):\n",
    "        if((k==2 and i==3) or (k==1 and i==1)):\n",
    "            print(\"*\",end=\" \")\n",
    "\n",
    "        else:\n",
    "            print(\" \",end=\" \")\n",
    "\n",
    "    print(\" \")"
   ]
  },
  {
   "cell_type": "code",
   "execution_count": 280,
   "id": "9e53d913-2d0d-47c2-bbe5-3699790e99cd",
   "metadata": {},
   "outputs": [
    {
     "name": "stdout",
     "output_type": "stream",
     "text": [
      "* * * * *  \n",
      "*      \n",
      "* * * * *  \n",
      "*      \n",
      "* * * * *  \n"
     ]
    }
   ],
   "source": [
    "for k in range(1,6):\n",
    "    for i in range(1,6):\n",
    "        if(i==1 or k==1 or k==3 or k==5):\n",
    "            print(\"*\",end=\" \")\n",
    "        else:\n",
    "            print(\"\",end=\" \")\n",
    "\n",
    "    print(\" \")"
   ]
  },
  {
   "cell_type": "code",
   "execution_count": 2,
   "id": "77e8a1a3-c19e-4233-a04e-96fa2b9934c1",
   "metadata": {},
   "outputs": [
    {
     "name": "stdout",
     "output_type": "stream",
     "text": [
      "      * * * *  \n",
      "    *     *  \n",
      "  *     *  \n",
      "* * * *  \n"
     ]
    }
   ],
   "source": [
    "for k in range(1,5):\n",
    "    for s in range(3,k-1,-1):\n",
    "        print(\" \",end=\" \")\n",
    "    for i in range(1,5):\n",
    "        if( i==1 or i==4 or k==1 or k==4):\n",
    "            print(\"*\",end=\" \")\n",
    "\n",
    "        else:\n",
    "            print(\" \",end=\" \")\n",
    "\n",
    "    print(\" \")"
   ]
  },
  {
   "cell_type": "code",
   "execution_count": 67,
   "id": "c66f74fc-edfd-4dfe-8228-de7cc8038294",
   "metadata": {},
   "outputs": [
    {
     "name": "stdout",
     "output_type": "stream",
     "text": [
      "    *  \n",
      "  *   *  \n",
      "*       *  \n",
      "  *   *  \n",
      "    *  \n"
     ]
    }
   ],
   "source": [
    "for k in range(1,3):\n",
    "    for s in range(2,k-1,-1):\n",
    "        print(\" \",end=\" \")\n",
    "\n",
    "    for f in range(1,2*k):\n",
    "        if((f==1) or (k==2 and f==3)):\n",
    "            print(\"*\",end=\" \")\n",
    "        else:\n",
    "            print(\" \",end=\" \")\n",
    "    print(\" \")\n",
    "    \n",
    "for i in range(0,3):\n",
    "    for s in range(1,i+1):\n",
    "        print(\" \",end=\" \")\n",
    "\n",
    "    for j in range(4,2*i-1,-1):\n",
    "        if((j==4 or j==0)  or (i==1 and j==2)):    \n",
    "            print(\"*\",end=\" \")\n",
    "        else:\n",
    "            print(\" \",end=\" \")\n",
    "\n",
    "    print(\" \")"
   ]
  },
  {
   "cell_type": "code",
   "execution_count": null,
   "id": "2b150778-524d-4efd-a279-aa6d3f9cb318",
   "metadata": {},
   "outputs": [],
   "source": []
  }
 ],
 "metadata": {
  "kernelspec": {
   "display_name": "Python 3 (ipykernel)",
   "language": "python",
   "name": "python3"
  },
  "language_info": {
   "codemirror_mode": {
    "name": "ipython",
    "version": 3
   },
   "file_extension": ".py",
   "mimetype": "text/x-python",
   "name": "python",
   "nbconvert_exporter": "python",
   "pygments_lexer": "ipython3",
   "version": "3.10.11"
  }
 },
 "nbformat": 4,
 "nbformat_minor": 5
}
