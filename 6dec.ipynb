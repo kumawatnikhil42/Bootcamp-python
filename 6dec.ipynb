{
 "cells": [
  {
   "cell_type": "code",
   "execution_count": 30,
   "id": "48ec072f-2c86-47d6-8c65-4918cf468c3b",
   "metadata": {},
   "outputs": [
    {
     "name": "stdin",
     "output_type": "stream",
     "text": [
      " 20\n"
     ]
    },
    {
     "name": "stdout",
     "output_type": "stream",
     "text": [
      "96\n"
     ]
    }
   ],
   "source": [
    "x=int(input())\n",
    "day=0\n",
    "initial=1\n",
    "total=0\n",
    "while(day<x):\n",
    "    total=total+initial\n",
    "    initial+=1\n",
    "    day+=1\n",
    "    if(day%7==0):\n",
    "        initial=1+day//7\n",
    "print(total)"
   ]
  },
  {
   "cell_type": "code",
   "execution_count": 51,
   "id": "139f9c5a-c13e-4f4d-afd6-de1e3ba01b4e",
   "metadata": {},
   "outputs": [
    {
     "name": "stdin",
     "output_type": "stream",
     "text": [
      " 6\n"
     ]
    },
    {
     "name": "stdout",
     "output_type": "stream",
     "text": [
      "[0, 2]\n"
     ]
    }
   ],
   "source": [
    "num=[2,3,4,5]\n",
    "target=int(input())\n",
    "count=[]\n",
    "for i in range(0,len(num)):\n",
    "    for j in range(i+1,len(num)):\n",
    "        if(num[i]+num[j]==target):\n",
    "            count.append(i)\n",
    "            count.append(j)\n",
    "\n",
    "print(count)\n",
    "        "
   ]
  },
  {
   "cell_type": "code",
   "execution_count": null,
   "id": "58621f84-70ff-4683-b7e0-c664d9e597a7",
   "metadata": {},
   "outputs": [],
   "source": []
  }
 ],
 "metadata": {
  "kernelspec": {
   "display_name": "Python 3 (ipykernel)",
   "language": "python",
   "name": "python3"
  },
  "language_info": {
   "codemirror_mode": {
    "name": "ipython",
    "version": 3
   },
   "file_extension": ".py",
   "mimetype": "text/x-python",
   "name": "python",
   "nbconvert_exporter": "python",
   "pygments_lexer": "ipython3",
   "version": "3.10.11"
  }
 },
 "nbformat": 4,
 "nbformat_minor": 5
}
