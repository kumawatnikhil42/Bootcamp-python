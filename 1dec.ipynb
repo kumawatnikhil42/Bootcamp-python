{
 "cells": [
  {
   "cell_type": "code",
   "execution_count": 8,
   "id": "4f52be8c-ca9f-48b6-b69c-bc63cf8a407a",
   "metadata": {},
   "outputs": [],
   "source": [
    "#recursion\n",
    "#function calling itself"
   ]
  },
  {
   "cell_type": "code",
   "execution_count": 11,
   "id": "0f1c99c1-f405-42e6-9653-76872e4e1dcb",
   "metadata": {},
   "outputs": [
    {
     "name": "stdin",
     "output_type": "stream",
     "text": [
      " 5\n"
     ]
    },
    {
     "name": "stdout",
     "output_type": "stream",
     "text": [
      "120\n"
     ]
    }
   ],
   "source": [
    "#factorial\n",
    "a=int(input())\n",
    "fact=1\n",
    "for i in range(1,a+1):\n",
    "    fact=fact*i\n",
    "print(fact)"
   ]
  },
  {
   "cell_type": "code",
   "execution_count": 14,
   "id": "2f52ad5e-1d5b-44fb-88f8-c6a61004a2ff",
   "metadata": {},
   "outputs": [
    {
     "name": "stdout",
     "output_type": "stream",
     "text": [
      "24\n"
     ]
    }
   ],
   "source": [
    "#factroial by recursion\n",
    "def xyz(num):\n",
    "    if(num==1):\n",
    "        return 1\n",
    "    \n",
    "    return num*xyz(num-1)\n",
    "    \n",
    "     \n",
    "print(xyz(4))"
   ]
  },
  {
   "cell_type": "code",
   "execution_count": 20,
   "id": "f3cc1590-1ca2-4c53-816b-03064df0587f",
   "metadata": {},
   "outputs": [
    {
     "name": "stdout",
     "output_type": "stream",
     "text": [
      "8\n"
     ]
    }
   ],
   "source": [
    "#multiplication by recursion\n",
    "def multi(x,y):\n",
    "    if(x<y):\n",
    "        return multi(y,x)\n",
    "    elif(y!=0):\n",
    "        return x+multi(x,y-1)\n",
    "    else:\n",
    "        return 0\n",
    "print(multi(4,2))"
   ]
  },
  {
   "cell_type": "code",
   "execution_count": 30,
   "id": "e9e1dcf2-61a6-4b46-8fb0-45331c31bee8",
   "metadata": {},
   "outputs": [
    {
     "name": "stdin",
     "output_type": "stream",
     "text": [
      " 12345678\n"
     ]
    },
    {
     "name": "stdout",
     "output_type": "stream",
     "text": [
      "8\n"
     ]
    }
   ],
   "source": [
    "#take a input from a user find out total count of number using recursion\n",
    "def count_num(num):\n",
    "    count=0\n",
    "    if(num>0):\n",
    "        num=num//10\n",
    "        count+=1\n",
    "        return count+count_num(num)\n",
    "    return 0\n",
    "print(count_num(int(input())))\n"
   ]
  },
  {
   "cell_type": "code",
   "execution_count": 37,
   "id": "ea99733b-28fb-4f30-ac9a-8cd661865d6d",
   "metadata": {},
   "outputs": [
    {
     "name": "stdin",
     "output_type": "stream",
     "text": [
      " 123456\n"
     ]
    },
    {
     "name": "stdout",
     "output_type": "stream",
     "text": [
      "21\n"
     ]
    }
   ],
   "source": [
    "#to fin sum of digit of a number using recursion\n",
    "def sum_num(num):\n",
    "    sum=0\n",
    "    if(num>0):\n",
    "        num1=num%10\n",
    "        sum+=num1\n",
    "        num=num//10\n",
    "        return(sum+sum_num(num))\n",
    "    return 0\n",
    "print(sum_num(int(input())))    "
   ]
  },
  {
   "cell_type": "code",
   "execution_count": 5,
   "id": "807e4df9-5264-46ad-9da0-d33b9588a983",
   "metadata": {},
   "outputs": [
    {
     "name": "stdout",
     "output_type": "stream",
     "text": [
      "2\n",
      "3\n",
      "4\n",
      "6\n",
      "12\n"
     ]
    }
   ],
   "source": [
    "#create a func. to find out the factors of that number\n",
    "def factor(num,count=2):\n",
    "    if(num==0):\n",
    "        return\n",
    "    if(count>num):\n",
    "        return\n",
    "    if(num%count==0):\n",
    "        print(count)\n",
    "        \n",
    "    factor(num,count+1)    \n",
    "        \n",
    "      \n",
    "factor(12)"
   ]
  },
  {
   "cell_type": "code",
   "execution_count": null,
   "id": "7f6949e1-1cc7-45aa-93f1-54bc87466119",
   "metadata": {},
   "outputs": [],
   "source": [
    "x=15\n",
    "for i in range(2,x):\n",
    "    if(x%i==0):\n",
    "        print(i)"
   ]
  },
  {
   "cell_type": "code",
   "execution_count": 5,
   "id": "4a21504e-bca7-4dfb-8e0c-c188c49400d0",
   "metadata": {},
   "outputs": [
    {
     "name": "stdin",
     "output_type": "stream",
     "text": [
      " abcd\n",
      " bcd\n"
     ]
    },
    {
     "name": "stdout",
     "output_type": "stream",
     "text": [
      "bcdabcd\n"
     ]
    }
   ],
   "source": [
    "#copying one string to other string using recursion\n",
    "def copy(char,xyz):\n",
    "    for i in range(0,len(char)):\n",
    "        xyz=xyz+char[i]\n",
    "    print(xyz)\n",
    "char=input()\n",
    "xyz=input()\n",
    "copy(char,xyz)"
   ]
  },
  {
   "cell_type": "code",
   "execution_count": 8,
   "id": "93e18988-1031-4118-8c29-93ad66c71fa6",
   "metadata": {},
   "outputs": [
    {
     "name": "stdout",
     "output_type": "stream",
     "text": [
      "abcd\n"
     ]
    }
   ],
   "source": [
    "def copying(first,second=\"\",count=0):\n",
    "    if(count==len(first)):\n",
    "        return second\n",
    "    second+=first[count]\n",
    "    return copying(first,second,count+1)\n",
    "print(copying(\"abcd\"))"
   ]
  },
  {
   "cell_type": "code",
   "execution_count": 6,
   "id": "1991d9f9-4978-4ca0-867b-594345966909",
   "metadata": {},
   "outputs": [
    {
     "name": "stdin",
     "output_type": "stream",
     "text": [
      " 2\n",
      " 0 0\n"
     ]
    },
    {
     "name": "stdout",
     "output_type": "stream",
     "text": [
      "7\n"
     ]
    },
    {
     "name": "stdin",
     "output_type": "stream",
     "text": [
      " 3 4\n"
     ]
    },
    {
     "name": "stdout",
     "output_type": "stream",
     "text": [
      "3\n"
     ]
    }
   ],
   "source": [
    "'''\n",
    "aditya and ksyup is playing a badminton game there friend shyam is looking at the contest between the two \n",
    "shyam is eagerly waiting to get his turn but the condition they have in front of them is one of the player has to win the 7 games\n",
    "we need to predict in how many turn shyam will have a change to play the game\n",
    "n is the number of time shyam can predict his turn\n",
    "1<n<5\n",
    "input 1<=t<=13\n",
    "0 0\n",
    "4 3\n",
    "2 5\n",
    "1 0\n",
    "output\n",
    "7\n",
    "3\n",
    "2\n",
    "6\n",
    "'''\n",
    "n=int(input())\n",
    "for i in range(0,n):\n",
    "    x,y=map(int,input().split())\n",
    "    if(x>y):\n",
    "        print(7-x)\n",
    "    else:\n",
    "        print(7-y)"
   ]
  },
  {
   "cell_type": "code",
   "execution_count": 17,
   "id": "6a2a5a0b-52a7-470d-b751-d1f953b6c417",
   "metadata": {},
   "outputs": [
    {
     "name": "stdin",
     "output_type": "stream",
     "text": [
      " 10\n"
     ]
    },
    {
     "name": "stdout",
     "output_type": "stream",
     "text": [
      "not prime\n"
     ]
    }
   ],
   "source": [
    "#prime number using recursion\n",
    "def prime(num,z=2):\n",
    "    if(z>num):\n",
    "        return \"not prime\"\n",
    "    elif(z*z>num):\n",
    "        return \"prime\"\n",
    "    elif(num%z==0):\n",
    "        return \"not prime\"\n",
    "    else:\n",
    "        return prime(num,z+1)\n",
    "\n",
    "print(prime(int(input())))"
   ]
  },
  {
   "cell_type": "code",
   "execution_count": 2,
   "id": "de21d0ae-1cd5-42ae-b860-3c579601529f",
   "metadata": {},
   "outputs": [
    {
     "name": "stdin",
     "output_type": "stream",
     "text": [
      " 10\n"
     ]
    },
    {
     "name": "stdout",
     "output_type": "stream",
     "text": [
      "0 1 1 2 3 5 8 13 21 34 "
     ]
    }
   ],
   "source": [
    "#fibonacii\n",
    "\n",
    "second=int(input())\n",
    "num1=0\n",
    "num2=1\n",
    "num3=0\n",
    "for i in range(0,second):\n",
    "    if(i==0):\n",
    "        print(0,end=\" \")\n",
    "    else:\n",
    "        num1=num2\n",
    "        num2=num3\n",
    "        num3=num1+num2\n",
    "        print(num3,end=\" \")\n",
    "        \n",
    "        \n"
   ]
  },
  {
   "cell_type": "code",
   "execution_count": 15,
   "id": "61a0d324-03a2-4ac0-9b89-5be4aebe9926",
   "metadata": {},
   "outputs": [
    {
     "name": "stdout",
     "output_type": "stream",
     "text": [
      "0\n",
      "1\n",
      "1\n",
      "2\n",
      "3\n"
     ]
    }
   ],
   "source": [
    "#by recursion\n",
    "def fibonacii(n):\n",
    "    if(n==0):\n",
    "        return 0\n",
    "    if(n<=1):\n",
    "        return n\n",
    "    else:\n",
    "        return (fibonacii(n-2) + fibonacii(n-1))\n",
    "\n",
    "data=5\n",
    "for i in range(data):\n",
    "    print(fibonacii(i))"
   ]
  },
  {
   "cell_type": "code",
   "execution_count": 9,
   "id": "8da3c030-86a2-4765-8342-2ec69a6335e5",
   "metadata": {},
   "outputs": [
    {
     "name": "stdout",
     "output_type": "stream",
     "text": [
      "not coprime\n"
     ]
    }
   ],
   "source": [
    "#find out whether two no. are co-prime or not\n",
    "\n",
    "x=18\n",
    "y=30\n",
    "z=min(x,y)\n",
    "flag=0\n",
    "for i in range(2,z+1):\n",
    "    if(x%i==0 and y%i==0):\n",
    "        flag=1\n",
    "        break\n",
    "    else:\n",
    "        flag=0\n",
    "\n",
    "if(flag==1):\n",
    "    print(\"not coprime\")\n",
    "else:\n",
    "    print(\"coprime\")"
   ]
  },
  {
   "cell_type": "code",
   "execution_count": 16,
   "id": "8280a7c6-13ce-4822-9f6e-f64923ce2df2",
   "metadata": {},
   "outputs": [
    {
     "data": {
      "text/plain": [
       "'coprime'"
      ]
     },
     "execution_count": 16,
     "metadata": {},
     "output_type": "execute_result"
    }
   ],
   "source": [
    "#by recursion\n",
    "def coprime(x,y,z=2):\n",
    "    if(z>min(x,y)):\n",
    "        return \"coprime\" \n",
    "    elif(x%z==0 and y%z==0):\n",
    "        return \"not coprime\"\n",
    "    else:\n",
    "        return coprime(x,y,z+1)\n",
    "coprime(18,35)"
   ]
  },
  {
   "cell_type": "code",
   "execution_count": 17,
   "id": "f8460a04-e5ed-4cda-bb0f-097707a42ae0",
   "metadata": {},
   "outputs": [
    {
     "name": "stdout",
     "output_type": "stream",
     "text": [
      "540\n"
     ]
    }
   ],
   "source": [
    "#find out lcm \n",
    "x= 54\n",
    "y= 20\n",
    "if x > y:\n",
    "    greater = x\n",
    "else:\n",
    "    greater = y\n",
    "for i in range(greater,x*y+1):\n",
    "    if((i% x == 0) and (i % y == 0)):\n",
    "        lcm = i\n",
    "        break\n",
    "    \n",
    "\n",
    "print(lcm)"
   ]
  },
  {
   "cell_type": "code",
   "execution_count": 19,
   "id": "eabf993d-c044-4233-9e71-a33f6f16f686",
   "metadata": {},
   "outputs": [
    {
     "name": "stdout",
     "output_type": "stream",
     "text": [
      "540\n"
     ]
    }
   ],
   "source": [
    "#by recursion\n",
    "def lcm(x,y,z=max(x,y)):\n",
    "    if(z%x==0 and z%y==0):\n",
    "        return z\n",
    "    else:\n",
    "        return lcm(x,y,z+1)\n",
    "print(lcm(20,54))"
   ]
  },
  {
   "cell_type": "code",
   "execution_count": 31,
   "id": "d3ac7974-9f4d-43f6-b0a9-b094805a80df",
   "metadata": {},
   "outputs": [
    {
     "name": "stdout",
     "output_type": "stream",
     "text": [
      "540\n"
     ]
    }
   ],
   "source": [
    "#3 no. lcm\n",
    "def lcm3(x,y,z,a=None):\n",
    "    if(a==None):\n",
    "        a=max(x,y,z)\n",
    "    if(a%x==0 and a%y==0 and a%z==0):\n",
    "        return a\n",
    "    else:\n",
    "        return lcm3(x,y,z,a+1)\n",
    "\n",
    "x=20\n",
    "y=54\n",
    "z=2\n",
    "print(lcm3(x,y,z))\n"
   ]
  }
 ],
 "metadata": {
  "kernelspec": {
   "display_name": "Python 3 (ipykernel)",
   "language": "python",
   "name": "python3"
  },
  "language_info": {
   "codemirror_mode": {
    "name": "ipython",
    "version": 3
   },
   "file_extension": ".py",
   "mimetype": "text/x-python",
   "name": "python",
   "nbconvert_exporter": "python",
   "pygments_lexer": "ipython3",
   "version": "3.10.11"
  }
 },
 "nbformat": 4,
 "nbformat_minor": 5
}
