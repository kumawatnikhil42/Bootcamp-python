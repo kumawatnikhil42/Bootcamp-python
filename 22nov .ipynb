{
 "cells": [
  {
   "cell_type": "code",
   "execution_count": 5,
   "id": "1c556cd4-1c2c-48fd-ac1a-a33d1df7cfbc",
   "metadata": {},
   "outputs": [
    {
     "name": "stdout",
     "output_type": "stream",
     "text": [
      "71750\n"
     ]
    }
   ],
   "source": [
    "sum=0\n",
    "for i in range(1,101):\n",
    "    if(i%5==0):\n",
    "        sum+=i**2\n",
    "   \n",
    "print(sum)"
   ]
  },
  {
   "cell_type": "code",
   "execution_count": 29,
   "id": "24d9c4ef-1251-4b2c-aec0-fb8c1577a254",
   "metadata": {},
   "outputs": [
    {
     "name": "stdout",
     "output_type": "stream",
     "text": [
      "*  \n",
      "* *  \n",
      "* * *  \n",
      "* * * *  \n"
     ]
    }
   ],
   "source": [
    "for outer in range(1,5):\n",
    "    for inner in range(1,outer+1):\n",
    "        print(\"*\",end=\" \")\n",
    "\n",
    "    print(\" \")"
   ]
  },
  {
   "cell_type": "code",
   "execution_count": 41,
   "id": "1f2976a6-c198-4285-be10-9f129468d9e5",
   "metadata": {},
   "outputs": [
    {
     "name": "stdout",
     "output_type": "stream",
     "text": [
      "* * * *  \n",
      "* * *  \n",
      "* *  \n",
      "*  \n"
     ]
    }
   ],
   "source": [
    "for outer in range(1,5):\n",
    "    for inner in range(4,outer-1,-1):\n",
    "        print(\"*\",end=\" \")\n",
    "\n",
    "    print(\" \")"
   ]
  },
  {
   "cell_type": "code",
   "execution_count": 42,
   "id": "83e441fd-8e19-4c61-b4be-2489f6283038",
   "metadata": {},
   "outputs": [
    {
     "name": "stdout",
     "output_type": "stream",
     "text": [
      "*  \n",
      "* *  \n",
      "* * *  \n",
      "* * * *  \n",
      "* * *  \n",
      "* *  \n",
      "*  \n"
     ]
    }
   ],
   "source": [
    "for outer in range(1,4):\n",
    "    for inner in range(1,outer+1):\n",
    "        print(\"*\",end=\" \")\n",
    "\n",
    "    print(\" \")\n",
    "    \n",
    "for outer in range(1,5):\n",
    "    for inner in range(4,outer-1,-1):\n",
    "        print(\"*\",end=\" \")\n",
    "\n",
    "    print(\" \")\n",
    "    "
   ]
  },
  {
   "cell_type": "code",
   "execution_count": 108,
   "id": "49f592d0-f1a3-4cff-9306-7cfeadcdadc6",
   "metadata": {},
   "outputs": [
    {
     "name": "stdout",
     "output_type": "stream",
     "text": [
      "   * \n",
      "  ** \n",
      " *** \n",
      "**** \n"
     ]
    }
   ],
   "source": [
    "\n",
    "for i in range(1,5):\n",
    "   \n",
    "    for s in range(4,i,-1):\n",
    "        print(\" \",end=\"\")\n",
    "    for j in range(1,i+1,1):\n",
    "        print(\"*\",end=\"\")\n",
    "    \n",
    "\n",
    "\n",
    "    print(\" \")\n",
    "\n",
    "    "
   ]
  },
  {
   "cell_type": "code",
   "execution_count": 120,
   "id": "628759c7-b8b6-4d23-819b-e5b8ac4180a6",
   "metadata": {},
   "outputs": [
    {
     "name": "stdout",
     "output_type": "stream",
     "text": [
      "**** \n",
      " *** \n",
      "  ** \n",
      "   * \n"
     ]
    }
   ],
   "source": [
    "for i in range(1,5):\n",
    "    for s in range(1,i,1):\n",
    "        print(\" \",end=\"\")\n",
    "    for j in range(4,i-1,-1):\n",
    "        print(\"*\",end=\"\")\n",
    "        \n",
    "    print(\" \")"
   ]
  },
  {
   "cell_type": "code",
   "execution_count": 122,
   "id": "07c610ee-111c-4eb7-8d3c-23bb42c15547",
   "metadata": {},
   "outputs": [
    {
     "name": "stdout",
     "output_type": "stream",
     "text": [
      "**** \n",
      " *** \n",
      "  ** \n",
      "   * \n",
      "   * \n",
      "  ** \n",
      " *** \n",
      "**** \n"
     ]
    }
   ],
   "source": [
    "for i in range(1,5):\n",
    "    for s in range(1,i,1):\n",
    "        print(\" \",end=\"\")\n",
    "    for j in range(4,i-1,-1):\n",
    "        print(\"*\",end=\"\")\n",
    "        \n",
    "    print(\" \")\n",
    "for i in range(1,5):\n",
    "   \n",
    "    for s in range(4,i,-1):\n",
    "        print(\" \",end=\"\")\n",
    "    for j in range(1,i+1,1):\n",
    "        print(\"*\",end=\"\")\n",
    "    \n",
    "\n",
    "\n",
    "    print(\" \")\n",
    "\n"
   ]
  },
  {
   "cell_type": "code",
   "execution_count": 150,
   "id": "23da54d2-2675-4f42-a8a0-03644be33894",
   "metadata": {},
   "outputs": [
    {
     "name": "stdout",
     "output_type": "stream",
     "text": [
      "* \n",
      "** \n",
      "* * \n",
      "*  * \n",
      "***** \n"
     ]
    }
   ],
   "source": [
    "for i in range(1,6):\n",
    "    \n",
    "    for j in range(1,i+1):      \n",
    "        if(j==1 or i==j or i==5):\n",
    "            print(\"*\",end=\"\")\n",
    "\n",
    "        else:\n",
    "            print(\" \",end=\"\")\n",
    "               \n",
    "       \n",
    "    print(\" \")\n"
   ]
  },
  {
   "cell_type": "code",
   "execution_count": 180,
   "id": "7869399f-0ead-481d-9bc6-97d6059fca0b",
   "metadata": {},
   "outputs": [
    {
     "name": "stdout",
     "output_type": "stream",
     "text": [
      "    * \n",
      "   ** \n",
      "  * * \n",
      " *  * \n",
      "***** \n"
     ]
    }
   ],
   "source": [
    "for i in range(1,6):\n",
    "    \n",
    "    for s in range(4,i-1,-1):\n",
    "        print(\" \",end=\"\")\n",
    "    for j in range(1,i+1):      \n",
    "        if(i==5 or j==i or j==1 ):\n",
    "            print(\"*\",end=\"\")\n",
    "\n",
    "        else:\n",
    "            print(\" \",end=\"\")\n",
    "               \n",
    "       \n",
    "    print(\" \")"
   ]
  },
  {
   "cell_type": "code",
   "execution_count": 40,
   "id": "43fa3544-7368-4a30-b40e-2baf4009d325",
   "metadata": {},
   "outputs": [
    {
     "name": "stdout",
     "output_type": "stream",
     "text": [
      "      * \n",
      "     \n",
      "    * * * \n",
      "   \n",
      "  * * * * * \n",
      " \n",
      "* * * * * * * \n",
      "\n"
     ]
    }
   ],
   "source": [
    "for i in range(1,9):\n",
    "    \n",
    "    for s in range(6,i-1,-1):\n",
    "        print(\" \",end=\"\")\n",
    "    for j in range(1,i+1):      \n",
    "        if(i%2!=0 ):\n",
    "            print(\"*\",end=\" \") \n",
    "     \n",
    "\n",
    "        \n",
    "    print(\"\")"
   ]
  },
  {
   "cell_type": "code",
   "execution_count": 82,
   "id": "429506d3-9c4a-4543-872f-4b3c63f4e08c",
   "metadata": {},
   "outputs": [
    {
     "name": "stdout",
     "output_type": "stream",
     "text": [
      "    *  \n",
      "   * * *  \n",
      "  * * * * *  \n",
      " * * * * * * *  \n"
     ]
    }
   ],
   "source": [
    "for i in range(1,5):\n",
    "    \n",
    "    for s in range(4,i-1,-1):\n",
    "        print(\" \",end=\"\")\n",
    "    for j in range(1,2*i):      \n",
    "        if(i==4 or j==i or j==1):\n",
    "            print(\"*\",end=\" \")\n",
    "\n",
    "        else:\n",
    "            print(\"*\",end=\" \")\n",
    "               \n",
    "       \n",
    "    print(\" \")"
   ]
  },
  {
   "cell_type": "code",
   "execution_count": null,
   "id": "730e4c34-4a02-4652-b45f-cb01001d80a8",
   "metadata": {},
   "outputs": [],
   "source": []
  }
 ],
 "metadata": {
  "kernelspec": {
   "display_name": "Python 3 (ipykernel)",
   "language": "python",
   "name": "python3"
  },
  "language_info": {
   "codemirror_mode": {
    "name": "ipython",
    "version": 3
   },
   "file_extension": ".py",
   "mimetype": "text/x-python",
   "name": "python",
   "nbconvert_exporter": "python",
   "pygments_lexer": "ipython3",
   "version": "3.10.11"
  }
 },
 "nbformat": 4,
 "nbformat_minor": 5
}
