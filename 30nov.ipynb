{
 "cells": [
  {
   "cell_type": "code",
   "execution_count": 51,
   "id": "510f002a-8e57-4e68-9ad7-7f5fdb5d0f33",
   "metadata": {},
   "outputs": [
    {
     "name": "stdin",
     "output_type": "stream",
     "text": [
      " 8\n"
     ]
    },
    {
     "name": "stdout",
     "output_type": "stream",
     "text": [
      "87654321\n",
      "7654321\n",
      "654321\n",
      "54321\n",
      "4321\n",
      "321\n",
      "21\n",
      "1\n"
     ]
    }
   ],
   "source": [
    "def pattern(data):  \n",
    "    for i in range(0,data):\n",
    "        k=data-i\n",
    "        for j in range(0,k):\n",
    "            print(k-j,end=\"\")\n",
    "            \n",
    "        \n",
    "        print(\"\")\n",
    "\n",
    "pattern(int(input()))"
   ]
  },
  {
   "cell_type": "code",
   "execution_count": 53,
   "id": "0d328707-1096-4ab8-9d65-3ef05c18b7d4",
   "metadata": {},
   "outputs": [
    {
     "data": {
      "text/plain": [
       "5"
      ]
     },
     "execution_count": 53,
     "metadata": {},
     "output_type": "execute_result"
    }
   ],
   "source": [
    "def count_chk(x):\n",
    "    count=0\n",
    "    while(x>0):\n",
    "        x=x//10\n",
    "        count+=1\n",
    "        \n",
    "    return count\n",
    "    \n",
    "\n",
    "count_chk(12345)\n"
   ]
  },
  {
   "cell_type": "code",
   "execution_count": 54,
   "id": "b7145fb7-ac73-4e64-bbd9-f071359f1ed6",
   "metadata": {},
   "outputs": [
    {
     "name": "stdout",
     "output_type": "stream",
     "text": [
      "nIkHiL\n"
     ]
    }
   ],
   "source": [
    "def chk(x):\n",
    "    for i in range(0,len(x)):\n",
    "        if(i%2!=0):\n",
    "            x=x.upper()\n",
    "        else:\n",
    "            x=x.lower()\n",
    "\n",
    "        print(x[i],end=\"\")\n",
    "    print(\"\")\n",
    "chk(\"nikhil\")"
   ]
  },
  {
   "cell_type": "code",
   "execution_count": 92,
   "id": "cae52e5e-6e3c-4b4c-b4da-142a7ef6f5f8",
   "metadata": {},
   "outputs": [
    {
     "name": "stdout",
     "output_type": "stream",
     "text": [
      "nIkHiL\n"
     ]
    }
   ],
   "source": [
    "#to perform a task convert  odd character into upper case without using string function lower upper title \n",
    "def chk(x):\n",
    "    result=\"\"\n",
    "    for i in range(0,len(x)):\n",
    "        if(i%2!=0):\n",
    "\n",
    "            result+=chr(ord(x[i])-32)\n",
    "\n",
    "        else:\n",
    "            \n",
    "            result+=x[i]\n",
    "\n",
    "            \n",
    "    \n",
    "    print(result)\n",
    "    \n",
    "chk(\"nikhil\")\n"
   ]
  },
  {
   "cell_type": "code",
   "execution_count": 87,
   "id": "d7a62e80-5b7a-4a48-bac1-7918c5a02f58",
   "metadata": {},
   "outputs": [
    {
     "name": "stdout",
     "output_type": "stream",
     "text": [
      "NikhiL\n"
     ]
    }
   ],
   "source": [
    "#take input from a user and convert the first and last digit of string to uppercase and viceversa\n",
    "def convert(data):\n",
    "    n=len(data)\n",
    "    result=\"\"\n",
    "    for i in range(0,n):\n",
    "        if(i==0 or i==n-1):\n",
    "            result+=chr(ord(data[i])-32)\n",
    "       \n",
    "            \n",
    "        else:\n",
    "            result+=data[i]\n",
    "    print(result)\n",
    "\n",
    "convert(\"nikhil\")"
   ]
  },
  {
   "cell_type": "code",
   "execution_count": 103,
   "id": "55eb5020-2dd1-4f32-9b43-7b9ea4eb1028",
   "metadata": {},
   "outputs": [
    {
     "name": "stdout",
     "output_type": "stream",
     "text": [
      "23\n",
      "29\n",
      "31\n",
      "37\n",
      "41\n",
      "43\n",
      "47\n",
      "53\n",
      "59\n"
     ]
    }
   ],
   "source": [
    "def prime(num1,num2):\n",
    "    n=True\n",
    "    for i in range(num1,num2+1):\n",
    "        if(i>1):\n",
    "            for j in range(2,i):        \n",
    "                if(i%j==0):\n",
    "                    break\n",
    "            else:\n",
    "                print(i)\n",
    "                        \n",
    "\n",
    "\n",
    "prime(20,60)\n"
   ]
  },
  {
   "cell_type": "code",
   "execution_count": 78,
   "id": "af8149d0-ec27-47c1-82df-9babbc304077",
   "metadata": {},
   "outputs": [
    {
     "name": "stdin",
     "output_type": "stream",
     "text": [
      " aaahdhh\n"
     ]
    },
    {
     "name": "stdout",
     "output_type": "stream",
     "text": [
      "3112\n"
     ]
    }
   ],
   "source": [
    "#to find the consecutive frequency of the character in the given string\n",
    "def frq(data):\n",
    "    count=1\n",
    "    result=0\n",
    "    first=data[0]\n",
    "    for i in range(1,len(data)):\n",
    "        if(data[i]==first):\n",
    "            count+=1\n",
    "            result+=count\n",
    "            \n",
    "        else:\n",
    "            print(count,end=\"\")\n",
    "            first=data[i]\n",
    "            count=1\n",
    "    print(count)\n",
    "\n",
    "frq(input())\n"
   ]
  },
  {
   "cell_type": "code",
   "execution_count": null,
   "id": "736520f5-9783-4ec4-8313-0c81dc4d85d0",
   "metadata": {},
   "outputs": [],
   "source": []
  }
 ],
 "metadata": {
  "kernelspec": {
   "display_name": "Python 3 (ipykernel)",
   "language": "python",
   "name": "python3"
  },
  "language_info": {
   "codemirror_mode": {
    "name": "ipython",
    "version": 3
   },
   "file_extension": ".py",
   "mimetype": "text/x-python",
   "name": "python",
   "nbconvert_exporter": "python",
   "pygments_lexer": "ipython3",
   "version": "3.10.11"
  }
 },
 "nbformat": 4,
 "nbformat_minor": 5
}
