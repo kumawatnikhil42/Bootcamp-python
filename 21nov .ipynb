{
 "cells": [
  {
   "cell_type": "code",
   "execution_count": 9,
   "id": "c9d60c9a-2a29-4de3-b55a-91b4572a49d7",
   "metadata": {},
   "outputs": [
    {
     "name": "stdout",
     "output_type": "stream",
     "text": [
      "c is minimum\n"
     ]
    }
   ],
   "source": [
    "a=40\n",
    "b=50\n",
    "c=30\n",
    "d=70\n",
    "if(a<b and a<c and a<d):\n",
    "    print(\"a is minimum\")\n",
    "elif(b<a and b<c and b<d):\n",
    "    print(\"b is minimum\")\n",
    "elif(c<a and c<b and c<d):\n",
    "    print(\"c is minimum\")  \n",
    "elif(d<a and d<c and d<b):\n",
    "    print(\"d is minimum\")  "
   ]
  },
  {
   "cell_type": "code",
   "execution_count": 21,
   "id": "b87b8a24-4af8-4ea6-a048-7b2cab6a06de",
   "metadata": {},
   "outputs": [
    {
     "name": "stdout",
     "output_type": "stream",
     "text": [
      "this is amstrong no. 153\n"
     ]
    }
   ],
   "source": [
    "n = 153  \n",
    "s = n  \n",
    "b = len(str(n))\n",
    "sum1 = 0\n",
    "while n != 0:\n",
    "    r = n % 10\n",
    "    sum1 = sum1+(r**b)\n",
    "    n = n//10\n",
    "if s == sum1:\n",
    "    print(\"this is amstrong no.\",s)\n",
    "else:\n",
    "    print(\"this is not amstrong no.\",s)"
   ]
  },
  {
   "cell_type": "code",
   "execution_count": 2,
   "id": "4e649de0-83bb-44e8-b24f-ee48866f0d42",
   "metadata": {},
   "outputs": [
    {
     "name": "stdout",
     "output_type": "stream",
     "text": [
      "volume of cyl. 9.749699999999999 litre\n",
      "cost for 1 litres 25.555555555555557\n",
      "cost for 5 litres 127.77777777777779\n"
     ]
    }
   ],
   "source": [
    "r=3\n",
    "h=345\n",
    "volume=3.14*h*r**2/1000\n",
    "print(\"volume of cyl.\",volume,\"litre\")\n",
    "cost=230/9\n",
    "print(\"cost for 1 litres\",cost)\n",
    "cost1=5*cost\n",
    "print(\"cost for 5 litres\",cost1)\n"
   ]
  },
  {
   "cell_type": "code",
   "execution_count": 40,
   "id": "1606e6d2-1e37-45f9-86c6-9deb34c23ae1",
   "metadata": {},
   "outputs": [
    {
     "name": "stdout",
     "output_type": "stream",
     "text": [
      "22100\n"
     ]
    }
   ],
   "source": [
    "'''now find out the sum of sq. first 50 even natural no.''' \n",
    "sum=0\n",
    "for i in range(1,51):\n",
    "    if(i%2==0):\n",
    "        sum+=i**2\n",
    "   \n",
    "print(sum)"
   ]
  },
  {
   "cell_type": "code",
   "execution_count": 38,
   "id": "6d2bda7c-8860-4c73-9fea-42688c5ad6b2",
   "metadata": {},
   "outputs": [
    {
     "name": "stdin",
     "output_type": "stream",
     "text": [
      " 5\n"
     ]
    },
    {
     "name": "stdout",
     "output_type": "stream",
     "text": [
      "prime\n"
     ]
    }
   ],
   "source": [
    "'''find wether it is prime or not'''\n",
    "x=int(input())\n",
    "\n",
    "if(x==1):\n",
    "    print(\"not prime\")\n",
    "    \n",
    "else:\n",
    "    n=True\n",
    "    for i in range(2,x):\n",
    "        if(x%i==0 ):\n",
    "            n=False\n",
    "            break\n",
    "        \n",
    "\n",
    "    if(n==True):\n",
    "        print(\"prime\")\n",
    "\n",
    "    else:\n",
    "        print(\"not prime\")\n",
    "       "
   ]
  },
  {
   "cell_type": "code",
   "execution_count": null,
   "id": "afc89b7e-34d0-469c-85d7-842c7d88f086",
   "metadata": {},
   "outputs": [],
   "source": []
  }
 ],
 "metadata": {
  "kernelspec": {
   "display_name": "Python 3 (ipykernel)",
   "language": "python",
   "name": "python3"
  },
  "language_info": {
   "codemirror_mode": {
    "name": "ipython",
    "version": 3
   },
   "file_extension": ".py",
   "mimetype": "text/x-python",
   "name": "python",
   "nbconvert_exporter": "python",
   "pygments_lexer": "ipython3",
   "version": "3.10.11"
  }
 },
 "nbformat": 4,
 "nbformat_minor": 5
}
