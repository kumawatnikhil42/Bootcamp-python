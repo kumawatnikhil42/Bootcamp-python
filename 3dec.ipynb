{
 "cells": [
  {
   "cell_type": "code",
   "execution_count": 6,
   "id": "f200dcd9-59ee-4d18-8eed-16af776fa044",
   "metadata": {},
   "outputs": [
    {
     "name": "stdout",
     "output_type": "stream",
     "text": [
      "[5, 10, 11, 20, 30, 30]\n"
     ]
    }
   ],
   "source": [
    "#sorting alogorithms:\n",
    "# 1. Bubble sorting=>\n",
    "l=[10,20,30,5,11,30]\n",
    "n=len(l)\n",
    "temp=0\n",
    "for i in range(0,n-1):\n",
    "    for j in range(0,n-1-i):\n",
    "        if(l[j]>l[j+1]):\n",
    "            l[j],l[j+1]=l[j+1],l[j]\n",
    "          \n",
    "            \n",
    "print(l)\n",
    "            \n",
    "    "
   ]
  },
  {
   "cell_type": "code",
   "execution_count": 47,
   "id": "dd207571-f199-4902-9c15-4ab8e436a4ab",
   "metadata": {},
   "outputs": [
    {
     "name": "stdout",
     "output_type": "stream",
     "text": [
      "[1, 2, 3, 3, 4, 5, 6, 7, 8, 8]\n",
      "sum of minimum three no.= 6\n",
      "sum of maximum three no.= 23\n"
     ]
    }
   ],
   "source": [
    "#find the sum of max. three values of alist and also find out the sum of min. 3 value of a list\n",
    "l=[1,4,5,2,6,3,7,3,8,8]\n",
    "n=len(l)\n",
    "temp=0\n",
    "for i in range(0,n-1):\n",
    "    for j in range(0,n-1-i):\n",
    "        if(l[j]>l[j+1]):\n",
    "            l[j],l[j+1]=l[j+1],l[j]\n",
    "          \n",
    "            \n",
    "print(l)\n",
    "mini=l[0:3]\n",
    "max=l[len(l)-3:len(l)]\n",
    "print(\"sum of minimum three no.=\",sum(mini))\n",
    "print(\"sum of maximum three no.=\",sum(max))    \n",
    "\n",
    "    "
   ]
  },
  {
   "cell_type": "code",
   "execution_count": 89,
   "id": "7918ac83-0db0-4277-b06e-884c8177bf84",
   "metadata": {},
   "outputs": [
    {
     "name": "stdout",
     "output_type": "stream",
     "text": [
      "[13, 12, 11, 10, 10, 6, 5]\n"
     ]
    }
   ],
   "source": [
    "# 2. Insertion sorting:\n",
    "l1=[11,12,13,5,6,10]\n",
    "n=len(l1)\n",
    "for i in range(1,n):\n",
    "    a=l1[i]\n",
    "    j=i-1\n",
    "    while(j>=0 and a>l1[j]):\n",
    "        l1[j+1]=l1[j]\n",
    "        j-=1\n",
    "    l1[j+1]=a\n",
    "print(l1)"
   ]
  }
 ],
 "metadata": {
  "kernelspec": {
   "display_name": "Python 3 (ipykernel)",
   "language": "python",
   "name": "python3"
  },
  "language_info": {
   "codemirror_mode": {
    "name": "ipython",
    "version": 3
   },
   "file_extension": ".py",
   "mimetype": "text/x-python",
   "name": "python",
   "nbconvert_exporter": "python",
   "pygments_lexer": "ipython3",
   "version": "3.10.11"
  }
 },
 "nbformat": 4,
 "nbformat_minor": 5
}
