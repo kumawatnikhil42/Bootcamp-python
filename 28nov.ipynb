{
 "cells": [
  {
   "cell_type": "code",
   "execution_count": 51,
   "id": "9780c733-4852-4b8c-a3c9-1f275f2d59f5",
   "metadata": {},
   "outputs": [
    {
     "name": "stdout",
     "output_type": "stream",
     "text": [
      "string is pallindrome\n"
     ]
    }
   ],
   "source": [
    "#string manipulation\n",
    "\n",
    "  #pallindrome\n",
    "def pallindrome_check(data):\n",
    "    mid=(len(data)-1)//2\n",
    "    start=0\n",
    "    last=len(data)-1\n",
    "    flag=0\n",
    "    while(start<=mid):\n",
    "        if(data[start]==data[last]):\n",
    "            start+=1\n",
    "            last-=1\n",
    "        else:\n",
    "            flag=1\n",
    "            break\n",
    "\n",
    "    if(flag==0):\n",
    "        print(\"string is pallindrome\")\n",
    "\n",
    "    else:\n",
    "        print(\"string is not pallindrome\")\n",
    "pallindrome_check(\"abcba\")"
   ]
  },
  {
   "cell_type": "code",
   "execution_count": 53,
   "id": "d5f49ac3-3471-47da-994c-9b6346677a8a",
   "metadata": {},
   "outputs": [
    {
     "name": "stdout",
     "output_type": "stream",
     "text": [
      "symmetric\n"
     ]
    }
   ],
   "source": [
    "  #symmetrical string\n",
    "def symmetric_check(data):\n",
    "    n=len(data)\n",
    "    start=0\n",
    "    last=n-1\n",
    "    flag=0\n",
    "    if(n%2!=0):\n",
    "        middle=n//2+1\n",
    "\n",
    "    else:\n",
    "        middle=n//2\n",
    "    while(start<middle and middle<last):\n",
    "        if(data[start]==data[middle]):\n",
    "            start+=1\n",
    "            middle+=1\n",
    "\n",
    "        else:\n",
    "            flag=1\n",
    "            break\n",
    "\n",
    "    if(flag==0):\n",
    "        print(\"symmetric\")\n",
    "\n",
    "    else:\n",
    "        print(\"not symmetric\")\n",
    "\n",
    "symmetric_check(\"abcabc\")\n",
    "        "
   ]
  },
  {
   "cell_type": "code",
   "execution_count": 78,
   "id": "0bd8cb92-6128-4d0a-a86f-14f126db1bd4",
   "metadata": {},
   "outputs": [
    {
     "name": "stdin",
     "output_type": "stream",
     "text": [
      " dfsdf\n"
     ]
    },
    {
     "name": "stdout",
     "output_type": "stream",
     "text": [
      "yes\n"
     ]
    }
   ],
   "source": [
    "  #check whether any string has all vowels or not\n",
    "n=input()\n",
    "list=[n]\n",
    "list1=['a','e','i','o','u','A','E','I','O','U']\n",
    "lenght=len(n)\n",
    "flag=0\n",
    "for i in range(0,len(n)):\n",
    "    if( ):\n",
    "        flag=0\n",
    "\n",
    "    else:\n",
    "        flag==1\n",
    "if(flag==0):\n",
    "    print(\"yes\")   \n",
    "\n",
    "    \n",
    "    "
   ]
  },
  {
   "cell_type": "code",
   "execution_count": 77,
   "id": "64737e00-3a31-4c10-99ef-ab1b56badeee",
   "metadata": {},
   "outputs": [
    {
     "name": "stdin",
     "output_type": "stream",
     "text": [
      " aabbbnnnnmmmm\n"
     ]
    },
    {
     "name": "stdout",
     "output_type": "stream",
     "text": [
      "['a']\n"
     ]
    }
   ],
   "source": [
    "  #least frequent character from string\n",
    "x=input()\n",
    "mydictionary={}\n",
    "for i in x:\n",
    "    if(i not in mydictionary):\n",
    "        mydictionary[i]=1\n",
    "\n",
    "    else:\n",
    "        mydictionary[i]+=1\n",
    "\n",
    "mi=min(mydictionary.values())\n",
    "minn=[i for i,j in mydictionary.items() if j==mi ]\n",
    "print(minn)"
   ]
  },
  {
   "cell_type": "code",
   "execution_count": 79,
   "id": "1d4204fe-af41-47f8-a594-c614f1edfe0c",
   "metadata": {},
   "outputs": [
    {
     "name": "stdin",
     "output_type": "stream",
     "text": [
      " nnnnjjjjkklddgwwuuhd\n"
     ]
    },
    {
     "name": "stdout",
     "output_type": "stream",
     "text": [
      "['n', 'j']\n"
     ]
    }
   ],
   "source": [
    "  #most frequent character from string\n",
    "x=input()\n",
    "mydictionary={}\n",
    "for i in x:\n",
    "    if(i not in mydictionary):\n",
    "        mydictionary[i]=1\n",
    "\n",
    "    else:\n",
    "        mydictionary[i]+=1\n",
    "\n",
    "mi=max(mydictionary.values())\n",
    "minn=[i for i,j in mydictionary.items() if j==mi ]\n",
    "print(minn)"
   ]
  },
  {
   "cell_type": "code",
   "execution_count": 55,
   "id": "1734ff99-7eca-4617-b7b2-ba39d3caeaf1",
   "metadata": {},
   "outputs": [
    {
     "name": "stdout",
     "output_type": "stream",
     "text": [
      "NIKhil"
     ]
    }
   ],
   "source": [
    "  #to convert the first half of string into uppercase\n",
    "def func(data):\n",
    "    mid=(len(data)-1)//2\n",
    "    for i in range(0,len(data)):\n",
    "        if(i<=mid):\n",
    "            print(data[i].upper(),end=\"\")\n",
    "        else:\n",
    "            print(data[i],end=\"\")\n",
    "func(\"nikhil\")"
   ]
  },
  {
   "cell_type": "code",
   "execution_count": 34,
   "id": "87e5c186-d099-4d2b-88ba-b418ee562feb",
   "metadata": {},
   "outputs": [
    {
     "name": "stdin",
     "output_type": "stream",
     "text": [
      " http://example.com\n"
     ]
    },
    {
     "name": "stdout",
     "output_type": "stream",
     "text": [
      "valid\n"
     ]
    }
   ],
   "source": [
    "  #take input is valid url or not\n",
    "def url_check(url):\n",
    "    if (url.startswith((\"http://\", \"https://\")) and url.endswith(\".com\")):\n",
    "        print(\"valid\")\n",
    "    else:\n",
    "        print(\"not valid\")\n",
    "url=input()\n",
    "url_check(url)\n",
    "\n"
   ]
  },
  {
   "cell_type": "code",
   "execution_count": 33,
   "id": "d2c47d61-48c0-4c9f-8a8f-2936b8b9b129",
   "metadata": {},
   "outputs": [
    {
     "name": "stdout",
     "output_type": "stream",
     "text": [
      "* * * * * \n",
      "  *     * \n",
      "    *   * \n",
      "      * * \n",
      "        * \n"
     ]
    }
   ],
   "source": [
    "  #pattern\n",
    "for i in range(0,5):\n",
    "    for s in range(1,i+1):\n",
    "        \n",
    "        print(\" \",end=\" \")\n",
    "\n",
    "    for j in range(4,i-1,-1):\n",
    "        if(i==0 or i==j or j==4 ):    \n",
    "            print(\"*\",end=\" \")\n",
    "        else:\n",
    "            print(\" \",end=\" \")\n",
    "\n",
    "    print(\"\")"
   ]
  },
  {
   "cell_type": "code",
   "execution_count": 35,
   "id": "fa366b88-4d17-48af-be32-476805e595e1",
   "metadata": {},
   "outputs": [
    {
     "name": "stdin",
     "output_type": "stream",
     "text": [
      " 5\n"
     ]
    },
    {
     "name": "stdout",
     "output_type": "stream",
     "text": [
      "        1  \n",
      "$ $ $ $ *  \n",
      "        2  \n",
      "$ $ $ * *  \n",
      "        3  \n",
      "$ $ * * *  \n",
      "        4  \n",
      "$ * * * *  \n"
     ]
    }
   ],
   "source": [
    "n=int(input())\n",
    "for i in range(1,n):\n",
    "    if(i%2!=0):\n",
    "       \n",
    "        for f in range(0,n-1):\n",
    "            print(\" \",end=\" \")\n",
    "\n",
    "        for l in range(0,1):\n",
    "            print(i,end=\" \")\n",
    "        print(\" \")\n",
    "\n",
    "    else:\n",
    "        for f in range(0,n-1):\n",
    "            print(\" \",end=\" \")\n",
    "\n",
    "        for l in range(0,1):\n",
    "            print(i,end=\" \")\n",
    "        print(\" \")\n",
    "        \n",
    "    for s in range(n-1,i-1,-1):\n",
    "        print(\"$\",end=\" \")\n",
    "    for j in range(1,i+1):\n",
    "        \n",
    "        print(\"*\",end=\" \")\n",
    "    print(\" \")"
   ]
  },
  {
   "cell_type": "markdown",
   "id": "102ed6ca-65e8-42f1-9b7c-aebb0284f84f",
   "metadata": {},
   "source": [
    "##### "
   ]
  }
 ],
 "metadata": {
  "kernelspec": {
   "display_name": "Python 3 (ipykernel)",
   "language": "python",
   "name": "python3"
  },
  "language_info": {
   "codemirror_mode": {
    "name": "ipython",
    "version": 3
   },
   "file_extension": ".py",
   "mimetype": "text/x-python",
   "name": "python",
   "nbconvert_exporter": "python",
   "pygments_lexer": "ipython3",
   "version": "3.10.11"
  }
 },
 "nbformat": 4,
 "nbformat_minor": 5
}
