{
 "cells": [
  {
   "cell_type": "code",
   "execution_count": 10,
   "id": "561b791d-a526-46e6-9765-8cc24c458e06",
   "metadata": {},
   "outputs": [
    {
     "name": "stdout",
     "output_type": "stream",
     "text": [
      "4\n"
     ]
    }
   ],
   "source": [
    "#take a list and findout the index position of max. list\n",
    "list2=[10,20,32,33,89,11,15]\n",
    "max_val=list2[1]\n",
    "temp=None\n",
    "for i in range(0,len(list2)):    \n",
    "    if(list2[i]> max_val):\n",
    "        max_val=list2[i]\n",
    "        temp=i\n",
    "print(temp)\n"
   ]
  },
  {
   "cell_type": "code",
   "execution_count": 50,
   "id": "bffc1bfd-aba8-4e7d-a2d1-8083fd8b3002",
   "metadata": {},
   "outputs": [
    {
     "name": "stdout",
     "output_type": "stream",
     "text": [
      "100\n",
      "90\n",
      "24\n",
      "30\n"
     ]
    }
   ],
   "source": [
    "#Array =>\n",
    "import array as arr\n",
    "array1=arr.array('i',[100,80,90,70,8,20,24,16,30])\n",
    "n=len(array1)\n",
    "for i in range(0,n-1):\n",
    "    if(array1[i-1]<array1[i]>array1[i+1]):\n",
    "        print(array1[i])\n",
    "if(array1[n-1]>array1[n-2]):\n",
    "    print(array1[n-1])"
   ]
  },
  {
   "cell_type": "code",
   "execution_count": 59,
   "id": "171068fe-fc30-4608-8acf-576748f36c0f",
   "metadata": {},
   "outputs": [
    {
     "data": {
      "text/plain": [
       "array('i', [60, 50, 40, 70, 30, 20, 10])"
      ]
     },
     "execution_count": 59,
     "metadata": {},
     "output_type": "execute_result"
    }
   ],
   "source": [
    "#write a function which take one arg. to reverse array:\n",
    "import array as arr\n",
    "def reverse_arr(arr1):\n",
    "    n=len(arr1)\n",
    "    start=0\n",
    "    end=n-1\n",
    "    while(start<end):\n",
    "        arr1[start],arr1[end]=arr1[end],arr1[start]\n",
    "        start+=1\n",
    "        end-=1\n",
    "    return arr1\n",
    "arr1=arr.array('i',[10,20,30,70,40,50,60])\n",
    "reverse_arr(arr1)\n"
   ]
  },
  {
   "cell_type": "code",
   "execution_count": 107,
   "id": "b5322a6c-4657-487f-a4ac-4365a3a65324",
   "metadata": {},
   "outputs": [
    {
     "name": "stdout",
     "output_type": "stream",
     "text": [
      "20\n"
     ]
    }
   ],
   "source": [
    "#take a array \n",
    "arr2=arr.array('i',[10,20,30,40,50,20,10])\n",
    "n1=len(arr2)\n",
    "temp=False\n",
    "for i in range(0,n1):\n",
    "    for j in range(i+1,n1-1):\n",
    "        if(arr2[i]==arr2[j]):\n",
    "            print(arr2[i])\n",
    "            temp=True\n",
    "            break\n",
    "\n",
    "    if(temp):\n",
    "        break "
   ]
  },
  {
   "cell_type": "code",
   "execution_count": 132,
   "id": "85ad2f57-4dd2-47af-a7c8-b3a5cdadf830",
   "metadata": {},
   "outputs": [
    {
     "name": "stdout",
     "output_type": "stream",
     "text": [
      "array('i', [60, 10, 20, 30, 40, 50])\n"
     ]
    }
   ],
   "source": [
    "arr3=arr.array('i',[10,20,30,40,50,60])\n",
    "n2=len(arr3)\n",
    "temp = arr3[n2-1]\n",
    "for i in range(n2-1, 0, -1):\n",
    "    arr3[i] = arr3[i-1]\n",
    "\n",
    "arr3[0] = temp\n",
    "\n",
    "print(arr3)"
   ]
  },
  {
   "cell_type": "code",
   "execution_count": null,
   "id": "9f2a4356-d975-4baa-a41f-4b1ab38eeab1",
   "metadata": {},
   "outputs": [],
   "source": []
  }
 ],
 "metadata": {
  "kernelspec": {
   "display_name": "Python 3 (ipykernel)",
   "language": "python",
   "name": "python3"
  },
  "language_info": {
   "codemirror_mode": {
    "name": "ipython",
    "version": 3
   },
   "file_extension": ".py",
   "mimetype": "text/x-python",
   "name": "python",
   "nbconvert_exporter": "python",
   "pygments_lexer": "ipython3",
   "version": "3.10.11"
  }
 },
 "nbformat": 4,
 "nbformat_minor": 5
}
